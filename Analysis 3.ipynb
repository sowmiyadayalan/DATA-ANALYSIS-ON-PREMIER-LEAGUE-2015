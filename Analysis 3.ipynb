{
 "cells": [
  {
   "cell_type": "markdown",
   "metadata": {},
   "source": [
    "# Analysis 3\n",
    "- Perform head2head performance analysis between top 3 teams\n",
    "- compare head2head analysis between any two teams\n",
    "- identify number of matches won, lost and draw between any two teams"
   ]
  },
  {
   "cell_type": "code",
   "execution_count": 126,
   "metadata": {
    "collapsed": false
   },
   "outputs": [
    {
     "name": "stdout",
     "output_type": "stream",
     "text": [
      "Once deleted, variables cannot be recovered. Proceed (y/[n])? y\n"
     ]
    }
   ],
   "source": [
    "%reset"
   ]
  },
  {
   "cell_type": "code",
   "execution_count": 127,
   "metadata": {
    "collapsed": true
   },
   "outputs": [],
   "source": [
    "%matplotlib inline"
   ]
  },
  {
   "cell_type": "code",
   "execution_count": 1,
   "metadata": {
    "collapsed": true
   },
   "outputs": [],
   "source": [
    "import glob\n",
    "import json\n",
    "import datetime\n",
    "import os\n",
    "#import fnmatch\n",
    "import csv\n",
    "import pandas as pd\n",
    "import numpy as np\n",
    "from geopy.geocoders import Nominatim\n",
    "from io import StringIO\n",
    "from __future__ import print_function\n",
    "from ipywidgets import interact, interactive, fixed, interact_manual\n",
    "import ipywidgets as widgets\n",
    "import matplotlib.pyplot as plt\n",
    "import seaborn as sns\n",
    "sns.set_style(\"whitegrid\")"
   ]
  },
  {
   "cell_type": "code",
   "execution_count": 2,
   "metadata": {
    "collapsed": false
   },
   "outputs": [],
   "source": [
    "directory=\"Data/Football/Head2Head/Head2HeadByFixture\"\n",
    "count=0\n",
    "match_dic = {}\n",
    "match_head2head_df = pd.DataFrame(columns = ['team1','team2','matchCount','team1win','team2win','draw'])\n",
    "count=0\n",
    "for root, dirs, files in os.walk(directory):\n",
    "     for file in files:\n",
    "        with open(os.path.join(root, file), \"r\") as f:\n",
    "            data = json.load(f)\n",
    "            team1=data['fixture']['homeTeamName']\n",
    "            team2=data['fixture']['awayTeamName']\n",
    "            team1win= data['head2head']['homeTeamWins']\n",
    "            team2win= data['head2head']['awayTeamWins']\n",
    "            draw=data['head2head']['draws']\n",
    "            matchCount=data['head2head']['count']\n",
    "            match_head2head_df.loc[count]=[team1,team2,matchCount,team1win,team2win,draw]\n",
    "            count+=1            \n",
    "\n",
    "            "
   ]
  },
  {
   "cell_type": "code",
   "execution_count": 3,
   "metadata": {
    "collapsed": false
   },
   "outputs": [
    {
     "data": {
      "text/html": [
       "<div>\n",
       "<table border=\"1\" class=\"dataframe\">\n",
       "  <thead>\n",
       "    <tr style=\"text-align: right;\">\n",
       "      <th></th>\n",
       "      <th>team1</th>\n",
       "      <th>team2</th>\n",
       "      <th>matchCount</th>\n",
       "      <th>team1win</th>\n",
       "      <th>team2win</th>\n",
       "      <th>draw</th>\n",
       "    </tr>\n",
       "  </thead>\n",
       "  <tbody>\n",
       "    <tr>\n",
       "      <th>0</th>\n",
       "      <td>AFC Bournemouth</td>\n",
       "      <td>Arsenal FC</td>\n",
       "      <td>4.0</td>\n",
       "      <td>0.0</td>\n",
       "      <td>3.0</td>\n",
       "      <td>1.0</td>\n",
       "    </tr>\n",
       "    <tr>\n",
       "      <th>1</th>\n",
       "      <td>AFC Bournemouth</td>\n",
       "      <td>Aston Villa FC</td>\n",
       "      <td>2.0</td>\n",
       "      <td>1.0</td>\n",
       "      <td>1.0</td>\n",
       "      <td>0.0</td>\n",
       "    </tr>\n",
       "    <tr>\n",
       "      <th>2</th>\n",
       "      <td>Arsenal FC</td>\n",
       "      <td>Aston Villa FC</td>\n",
       "      <td>46.0</td>\n",
       "      <td>26.0</td>\n",
       "      <td>6.0</td>\n",
       "      <td>14.0</td>\n",
       "    </tr>\n",
       "    <tr>\n",
       "      <th>3</th>\n",
       "      <td>AFC Bournemouth</td>\n",
       "      <td>Chelsea FC</td>\n",
       "      <td>4.0</td>\n",
       "      <td>1.0</td>\n",
       "      <td>3.0</td>\n",
       "      <td>0.0</td>\n",
       "    </tr>\n",
       "    <tr>\n",
       "      <th>4</th>\n",
       "      <td>Arsenal FC</td>\n",
       "      <td>Chelsea FC</td>\n",
       "      <td>50.0</td>\n",
       "      <td>18.0</td>\n",
       "      <td>17.0</td>\n",
       "      <td>15.0</td>\n",
       "    </tr>\n",
       "    <tr>\n",
       "      <th>5</th>\n",
       "      <td>Aston Villa FC</td>\n",
       "      <td>Chelsea FC</td>\n",
       "      <td>46.0</td>\n",
       "      <td>11.0</td>\n",
       "      <td>23.0</td>\n",
       "      <td>12.0</td>\n",
       "    </tr>\n",
       "    <tr>\n",
       "      <th>6</th>\n",
       "      <td>AFC Bournemouth</td>\n",
       "      <td>Crystal Palace FC</td>\n",
       "      <td>4.0</td>\n",
       "      <td>1.0</td>\n",
       "      <td>1.0</td>\n",
       "      <td>2.0</td>\n",
       "    </tr>\n",
       "    <tr>\n",
       "      <th>7</th>\n",
       "      <td>Arsenal FC</td>\n",
       "      <td>Crystal Palace FC</td>\n",
       "      <td>14.0</td>\n",
       "      <td>9.0</td>\n",
       "      <td>2.0</td>\n",
       "      <td>3.0</td>\n",
       "    </tr>\n",
       "    <tr>\n",
       "      <th>8</th>\n",
       "      <td>Aston Villa FC</td>\n",
       "      <td>Crystal Palace FC</td>\n",
       "      <td>12.0</td>\n",
       "      <td>3.0</td>\n",
       "      <td>4.0</td>\n",
       "      <td>5.0</td>\n",
       "    </tr>\n",
       "    <tr>\n",
       "      <th>9</th>\n",
       "      <td>Chelsea FC</td>\n",
       "      <td>Crystal Palace FC</td>\n",
       "      <td>14.0</td>\n",
       "      <td>10.0</td>\n",
       "      <td>3.0</td>\n",
       "      <td>1.0</td>\n",
       "    </tr>\n",
       "    <tr>\n",
       "      <th>10</th>\n",
       "      <td>AFC Bournemouth</td>\n",
       "      <td>Everton FC</td>\n",
       "      <td>4.0</td>\n",
       "      <td>1.0</td>\n",
       "      <td>2.0</td>\n",
       "      <td>1.0</td>\n",
       "    </tr>\n",
       "    <tr>\n",
       "      <th>11</th>\n",
       "      <td>Arsenal FC</td>\n",
       "      <td>Everton FC</td>\n",
       "      <td>47.0</td>\n",
       "      <td>28.0</td>\n",
       "      <td>7.0</td>\n",
       "      <td>12.0</td>\n",
       "    </tr>\n",
       "    <tr>\n",
       "      <th>12</th>\n",
       "      <td>Aston Villa FC</td>\n",
       "      <td>Everton FC</td>\n",
       "      <td>46.0</td>\n",
       "      <td>17.0</td>\n",
       "      <td>12.0</td>\n",
       "      <td>17.0</td>\n",
       "    </tr>\n",
       "    <tr>\n",
       "      <th>13</th>\n",
       "      <td>Chelsea FC</td>\n",
       "      <td>Everton FC</td>\n",
       "      <td>47.0</td>\n",
       "      <td>21.0</td>\n",
       "      <td>9.0</td>\n",
       "      <td>17.0</td>\n",
       "    </tr>\n",
       "    <tr>\n",
       "      <th>14</th>\n",
       "      <td>Crystal Palace FC</td>\n",
       "      <td>Everton FC</td>\n",
       "      <td>14.0</td>\n",
       "      <td>4.0</td>\n",
       "      <td>6.0</td>\n",
       "      <td>4.0</td>\n",
       "    </tr>\n",
       "    <tr>\n",
       "      <th>15</th>\n",
       "      <td>AFC Bournemouth</td>\n",
       "      <td>Leicester City FC</td>\n",
       "      <td>3.0</td>\n",
       "      <td>1.0</td>\n",
       "      <td>0.0</td>\n",
       "      <td>2.0</td>\n",
       "    </tr>\n",
       "    <tr>\n",
       "      <th>16</th>\n",
       "      <td>Arsenal FC</td>\n",
       "      <td>Leicester City FC</td>\n",
       "      <td>21.0</td>\n",
       "      <td>13.0</td>\n",
       "      <td>1.0</td>\n",
       "      <td>7.0</td>\n",
       "    </tr>\n",
       "    <tr>\n",
       "      <th>17</th>\n",
       "      <td>Aston Villa FC</td>\n",
       "      <td>Leicester City FC</td>\n",
       "      <td>20.0</td>\n",
       "      <td>4.0</td>\n",
       "      <td>7.0</td>\n",
       "      <td>9.0</td>\n",
       "    </tr>\n",
       "    <tr>\n",
       "      <th>18</th>\n",
       "      <td>Chelsea FC</td>\n",
       "      <td>Leicester City FC</td>\n",
       "      <td>22.0</td>\n",
       "      <td>13.0</td>\n",
       "      <td>4.0</td>\n",
       "      <td>5.0</td>\n",
       "    </tr>\n",
       "    <tr>\n",
       "      <th>19</th>\n",
       "      <td>Crystal Palace FC</td>\n",
       "      <td>Leicester City FC</td>\n",
       "      <td>10.0</td>\n",
       "      <td>4.0</td>\n",
       "      <td>4.0</td>\n",
       "      <td>2.0</td>\n",
       "    </tr>\n",
       "  </tbody>\n",
       "</table>\n",
       "</div>"
      ],
      "text/plain": [
       "                team1              team2  matchCount  team1win  team2win  draw\n",
       "0     AFC Bournemouth         Arsenal FC         4.0       0.0       3.0   1.0\n",
       "1     AFC Bournemouth     Aston Villa FC         2.0       1.0       1.0   0.0\n",
       "2          Arsenal FC     Aston Villa FC        46.0      26.0       6.0  14.0\n",
       "3     AFC Bournemouth         Chelsea FC         4.0       1.0       3.0   0.0\n",
       "4          Arsenal FC         Chelsea FC        50.0      18.0      17.0  15.0\n",
       "5      Aston Villa FC         Chelsea FC        46.0      11.0      23.0  12.0\n",
       "6     AFC Bournemouth  Crystal Palace FC         4.0       1.0       1.0   2.0\n",
       "7          Arsenal FC  Crystal Palace FC        14.0       9.0       2.0   3.0\n",
       "8      Aston Villa FC  Crystal Palace FC        12.0       3.0       4.0   5.0\n",
       "9          Chelsea FC  Crystal Palace FC        14.0      10.0       3.0   1.0\n",
       "10    AFC Bournemouth         Everton FC         4.0       1.0       2.0   1.0\n",
       "11         Arsenal FC         Everton FC        47.0      28.0       7.0  12.0\n",
       "12     Aston Villa FC         Everton FC        46.0      17.0      12.0  17.0\n",
       "13         Chelsea FC         Everton FC        47.0      21.0       9.0  17.0\n",
       "14  Crystal Palace FC         Everton FC        14.0       4.0       6.0   4.0\n",
       "15    AFC Bournemouth  Leicester City FC         3.0       1.0       0.0   2.0\n",
       "16         Arsenal FC  Leicester City FC        21.0      13.0       1.0   7.0\n",
       "17     Aston Villa FC  Leicester City FC        20.0       4.0       7.0   9.0\n",
       "18         Chelsea FC  Leicester City FC        22.0      13.0       4.0   5.0\n",
       "19  Crystal Palace FC  Leicester City FC        10.0       4.0       4.0   2.0"
      ]
     },
     "execution_count": 3,
     "metadata": {},
     "output_type": "execute_result"
    }
   ],
   "source": [
    "#match_head2head_df[['matchCount','team1win','team2win','draw']].astype(int,copy=False)\n",
    "match_head2head_df.head(20)\n"
   ]
  },
  {
   "cell_type": "code",
   "execution_count": 124,
   "metadata": {
    "collapsed": false
   },
   "outputs": [
    {
     "name": "stdout",
     "output_type": "stream",
     "text": [
      "['Chelsea FC'] Chelsea FC\n",
      "Hi\n"
     ]
    },
    {
     "data": {
      "text/html": [
       "<div>\n",
       "<table border=\"1\" class=\"dataframe\">\n",
       "  <thead>\n",
       "    <tr style=\"text-align: right;\">\n",
       "      <th></th>\n",
       "      <th>team1</th>\n",
       "      <th>team2</th>\n",
       "      <th>team1win</th>\n",
       "      <th>team2win</th>\n",
       "      <th>draw</th>\n",
       "    </tr>\n",
       "  </thead>\n",
       "  <tbody>\n",
       "    <tr>\n",
       "      <th>18</th>\n",
       "      <td>Chelsea FC</td>\n",
       "      <td>Leicester City FC</td>\n",
       "      <td>13.0</td>\n",
       "      <td>4.0</td>\n",
       "      <td>5.0</td>\n",
       "    </tr>\n",
       "  </tbody>\n",
       "</table>\n",
       "</div>"
      ],
      "text/plain": [
       "         team1              team2  team1win  team2win  draw\n",
       "18  Chelsea FC  Leicester City FC      13.0       4.0   5.0"
      ]
     },
     "execution_count": 124,
     "metadata": {},
     "output_type": "execute_result"
    }
   ],
   "source": [
    "team1='Chelsea FC'\n",
    "team2='Leicester City FC'\n",
    "\n",
    "match_head2head_df_copy=match_head2head_df.copy() \n",
    "values=match_head2head_df_copy.loc[(((match_head2head_df_copy['team1']== team1)|(match_head2head_df_copy['team2']== team1))\n",
    "                                            &(( match_head2head_df_copy['team2']==team2)|( match_head2head_df_copy['team1']==team2)))][['team1','team2','team1win','team2win','draw']]#.rename(columns = {'team1win':team1+' Win','team2win':team2+' Win',}).astype(int)\n",
    "#l= values.tolist()\n",
    "print(values['team1'].tolist(), team1)\n",
    "if team1 == values['team1'].tolist()[0]:\n",
    "    print('Hi')\n",
    "else:\n",
    "    print('hii')\n",
    "values\n",
    "\n",
    "    #print(values['team1'].to_string())\n",
    "#if team1 in match_head2head_df_copy['team2']:\n",
    " #   values.rename(columns = {'team1win':team2+' Win','team2win':team1+' Win',}).astype(int)\n",
    "#else:\n",
    "  #  values.rename(columns = {'team1win':team1+' Win','team2win':team2+' Win',}).astype(int)\n",
    "\n",
    "#.rename(columns = {'team1win':team1+' Win','team2win':team2+' Win',}).astype(int)\n",
    "#print(values)\n",
    "#val_ser=values.stack()\n",
    "#data_val_df=val_ser.to_frame().reset_index().rename(columns = {'level_1':'Data_Lable',0:'Data_Value',})[['Data_Lable','Data_Value']]\n"
   ]
  },
  {
   "cell_type": "code",
   "execution_count": 148,
   "metadata": {
    "collapsed": false
   },
   "outputs": [],
   "source": [
    "t1=list(match_head2head_df['team1'].unique())\n",
    "team1 = widgets.Dropdown(options=t1,value=t1[3],description='Select Team1:',)\n",
    "#team1.observe(on_change, t1)\n",
    "t2= list(match_head2head_df['team1'].unique())\n",
    "#list(match_head2head_df[match_head2head_df['team1'] team1]['team1'].unique())\n",
    "team2=  widgets.Dropdown(options=t2,value=t2[4],description='Select Team2:',)\n",
    "                                  \n",
    "def plotit(team1,team2):\n",
    "    if team1!=team2:\n",
    "    #print(team1,team2)\n",
    "        match_head2head_df_copy=match_head2head_df.copy()    \n",
    "        #print(match_head2head_df_copy[(match_head2head_df_copy['team1']==team1)& ( match_head2head_df_copy['team2']==team2)])\n",
    "        values=match_head2head_df_copy.loc[(((match_head2head_df_copy['team1']== team1)|(match_head2head_df_copy['team2']== team1))\n",
    "                                            &(( match_head2head_df_copy['team2']==team2)|( match_head2head_df_copy['team1']==team2)))][['team1win','team2win','draw']].rename(columns = {'team1win':team1+' Win','team2win':team2+' Win',}).astype(int)\n",
    "        #print(values)\n",
    "        val_ser=values.stack()\n",
    "        data_val_df=val_ser.to_frame().reset_index().rename(columns = {'level_1':'Data_Lable',0:'Data_Value',})[['Data_Lable','Data_Value']]\n",
    "        colors=[\"#5151CC\", \"#FFC200\", \"#939393\"]\n",
    "        #print(data_val_df)\n",
    "        \n",
    "        plt.figure(1, figsize=(6,6)) \n",
    "        ax = plt.axes([0.1, 0.1, 0.8, 0.8]) \n",
    "        labels = data_val_df['Data_Lable']\n",
    "        fracs = data_val_df['Data_Value'] \n",
    "        total = sum(fracs) \n",
    "        explode=(0.05, 0.05, 0.05) \n",
    "        plt.pie(fracs, explode=explode,colors=colors, labels=labels, autopct= lambda p: '{:.0f}'.format(p * total / 100), shadow=True, startangle=90) \n",
    "        plt.show()\n",
    "    else:\n",
    "        print(\"Please select two different teams\")\n",
    "#data_val_df\n",
    "\n",
    "\n",
    "\n"
   ]
  },
  {
   "cell_type": "code",
   "execution_count": 149,
   "metadata": {
    "collapsed": false
   },
   "outputs": [
    {
     "data": {
      "image/png": "[encoded data removed]",
      "text/plain": [
       "<matplotlib.figure.Figure at 0x1aa36875748>"
      ]
     },
     "metadata": {},
     "output_type": "display_data"
    }
   ],
   "source": [
    "\n",
    "interactive(plotit, team1=team1,team2=team2,)"
   ]
  },
  {
   "cell_type": "code",
   "execution_count": null,
   "metadata": {
    "collapsed": false
   },
   "outputs": [],
   "source": []
  },
  {
   "cell_type": "code",
   "execution_count": null,
   "metadata": {
    "collapsed": true
   },
   "outputs": [],
   "source": []
  }
 ],
 "metadata": {
  "anaconda-cloud": {},
  "kernelspec": {
   "display_name": "Python [conda root]",
   "language": "python",
   "name": "conda-root-py"
  },
  "language_info": {
   "codemirror_mode": {
    "name": "ipython",
    "version": 3
   },
   "file_extension": ".py",
   "mimetype": "text/x-python",
   "name": "python",
   "nbconvert_exporter": "python",
   "pygments_lexer": "ipython3",
   "version": "3.5.2"
  },
  "widgets": {
   "state": {
    "02fcb28c0f4b4a1291146cab179236b7": {
     "views": [
      {
       "cell_index": 8
      }
     ]
    }
   },
   "version": "1.2.0"
  }
 },
 "nbformat": 4,
 "nbformat_minor": 2
}
