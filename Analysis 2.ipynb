{
 "cells": [
  {
   "cell_type": "markdown",
   "metadata": {},
   "source": [
    "# Analysis2\n",
    "- performed web scrape to fetch list of clubs and their location\n",
    "- restructured the data to contain date,home team, away team,home goals,away goal\n",
    "- intergrate club location to the restructured dataframe\n",
    "- used pip install geopy to find coordinates for cities\n",
    "- Now we have the date,time,location of the match. Lets hit the temperature API and fetch the temprature for every match\n",
    "- After extracting weather data, now let us understand team performance based on weather condition"
   ]
  },
  {
   "cell_type": "code",
   "execution_count": 1,
   "metadata": {
    "collapsed": false
   },
   "outputs": [
    {
     "name": "stdout",
     "output_type": "stream",
     "text": [
      "Once deleted, variables cannot be recovered. Proceed (y/[n])? y\n"
     ]
    }
   ],
   "source": [
    "%reset"
   ]
  },
  {
   "cell_type": "code",
   "execution_count": 2,
   "metadata": {
    "collapsed": true
   },
   "outputs": [],
   "source": [
    "%matplotlib inline"
   ]
  },
  {
   "cell_type": "code",
   "execution_count": 52,
   "metadata": {
    "collapsed": true
   },
   "outputs": [],
   "source": [
    "import glob\n",
    "import json\n",
    "import datetime\n",
    "import os\n",
    "#import fnmatch\n",
    "import csv\n",
    "import pandas as pd\n",
    "import numpy as np\n",
    "import warnings\n",
    "from geopy.geocoders import Nominatim\n",
    "from io import StringIO\n",
    "from __future__ import print_function\n",
    "from ipywidgets import interact, interactive, fixed, interact_manual\n",
    "import ipywidgets as widgets\n",
    "import matplotlib.pyplot as plt\n",
    "import matplotlib.collections\n",
    "import seaborn as sns\n",
    "sns.set_style(\"whitegrid\")\n",
    "warnings.filterwarnings(\"ignore\")"
   ]
  },
  {
   "cell_type": "code",
   "execution_count": 4,
   "metadata": {
    "collapsed": false
   },
   "outputs": [
    {
     "data": {
      "text/html": [
       "<div>\n",
       "<table border=\"1\" class=\"dataframe\">\n",
       "  <thead>\n",
       "    <tr style=\"text-align: right;\">\n",
       "      <th></th>\n",
       "      <th>Club</th>\n",
       "      <th>Location</th>\n",
       "      <th>Coordinates</th>\n",
       "    </tr>\n",
       "  </thead>\n",
       "  <tbody>\n",
       "    <tr>\n",
       "      <th>41</th>\n",
       "      <td>Watford</td>\n",
       "      <td>Watford</td>\n",
       "      <td>NaN</td>\n",
       "    </tr>\n",
       "    <tr>\n",
       "      <th>42</th>\n",
       "      <td>West Bromwich Albion</td>\n",
       "      <td>West Bromwich</td>\n",
       "      <td>NaN</td>\n",
       "    </tr>\n",
       "    <tr>\n",
       "      <th>43</th>\n",
       "      <td>West Ham United</td>\n",
       "      <td>London</td>\n",
       "      <td>NaN</td>\n",
       "    </tr>\n",
       "    <tr>\n",
       "      <th>44</th>\n",
       "      <td>Wigan Athletic</td>\n",
       "      <td>Wigan</td>\n",
       "      <td>NaN</td>\n",
       "    </tr>\n",
       "    <tr>\n",
       "      <th>45</th>\n",
       "      <td>Wolverhampton Wanderers</td>\n",
       "      <td>Wolverhampton</td>\n",
       "      <td>NaN</td>\n",
       "    </tr>\n",
       "  </tbody>\n",
       "</table>\n",
       "</div>"
      ],
      "text/plain": [
       "                       Club       Location  Coordinates\n",
       "41                  Watford        Watford          NaN\n",
       "42     West Bromwich Albion  West Bromwich          NaN\n",
       "43          West Ham United         London          NaN\n",
       "44           Wigan Athletic          Wigan          NaN\n",
       "45  Wolverhampton Wanderers  Wolverhampton          NaN"
      ]
     },
     "execution_count": 4,
     "metadata": {},
     "output_type": "execute_result"
    }
   ],
   "source": [
    "#Read clubLocation_List to idntify ID\n",
    "directory='Data/Football/club_city_list/club_list.csv'\n",
    "df=pd.read_csv(directory,sep=',')[['Club','Location']]\n",
    "df.head()\n",
    "df.loc[df['Club']=='A.F.C. Bournemouth',['Club']]='AFC Bournemouth'\n",
    "df.loc[df['Club']=='Sunderland',['Club']]='Sunderland AFC'\n",
    "df[\"Coordinates\"] = np.nan\n",
    "\n",
    "df.tail()"
   ]
  },
  {
   "cell_type": "code",
   "execution_count": 5,
   "metadata": {
    "collapsed": false
   },
   "outputs": [],
   "source": [
    "#Find coordinates for cities \n",
    "geolocator = Nominatim()\n",
    "df['Coordinates']=df['Location'].apply(geolocator.geocode).apply(lambda x: (x.latitude, x.longitude))\n",
    "df.to_csv('Data/Football/club_city_list/Premier_League_Locations.csv', sep=',', encoding='utf-8')"
   ]
  },
  {
   "cell_type": "code",
   "execution_count": 6,
   "metadata": {
    "collapsed": false
   },
   "outputs": [
    {
     "data": {
      "text/html": [
       "<div>\n",
       "<table border=\"1\" class=\"dataframe\">\n",
       "  <thead>\n",
       "    <tr style=\"text-align: right;\">\n",
       "      <th></th>\n",
       "      <th>Club</th>\n",
       "      <th>Location</th>\n",
       "      <th>Coordinates</th>\n",
       "    </tr>\n",
       "  </thead>\n",
       "  <tbody>\n",
       "    <tr>\n",
       "      <th>0</th>\n",
       "      <td>AFC Bournemouth</td>\n",
       "      <td>Bournemouth</td>\n",
       "      <td>(50.74467035, -1.85798080318094)</td>\n",
       "    </tr>\n",
       "    <tr>\n",
       "      <th>1</th>\n",
       "      <td>Arsenal</td>\n",
       "      <td>London</td>\n",
       "      <td>(51.5073219, -0.1276473)</td>\n",
       "    </tr>\n",
       "    <tr>\n",
       "      <th>2</th>\n",
       "      <td>Aston Villa</td>\n",
       "      <td>Birmingham</td>\n",
       "      <td>(52.4776875, -1.8948515)</td>\n",
       "    </tr>\n",
       "    <tr>\n",
       "      <th>3</th>\n",
       "      <td>Barnsley</td>\n",
       "      <td>Barnsley</td>\n",
       "      <td>(53.5527719, -1.4827754)</td>\n",
       "    </tr>\n",
       "    <tr>\n",
       "      <th>4</th>\n",
       "      <td>Birmingham City</td>\n",
       "      <td>Birmingham</td>\n",
       "      <td>(52.4776875, -1.8948515)</td>\n",
       "    </tr>\n",
       "  </tbody>\n",
       "</table>\n",
       "</div>"
      ],
      "text/plain": [
       "              Club     Location                       Coordinates\n",
       "0  AFC Bournemouth  Bournemouth  (50.74467035, -1.85798080318094)\n",
       "1          Arsenal       London          (51.5073219, -0.1276473)\n",
       "2      Aston Villa   Birmingham          (52.4776875, -1.8948515)\n",
       "3         Barnsley     Barnsley          (53.5527719, -1.4827754)\n",
       "4  Birmingham City   Birmingham          (52.4776875, -1.8948515)"
      ]
     },
     "execution_count": 6,
     "metadata": {},
     "output_type": "execute_result"
    }
   ],
   "source": [
    "df.head()"
   ]
  },
  {
   "cell_type": "code",
   "execution_count": 7,
   "metadata": {
    "collapsed": false
   },
   "outputs": [],
   "source": [
    "directory=\"Data/Football/Premier_League_2015_Data\"\n",
    "count=0\n",
    "match_dic = {}\n",
    "all_match_details_dataframe = pd.DataFrame(columns = ['Date_Time','home','away','home_goal','away_goal'])\n",
    "\n",
    "for root, dirs, files in os.walk(directory):\n",
    "     for file in files:\n",
    "        with open(os.path.join(root, file), \"r\") as f:\n",
    "            data = json.load(f)\n",
    "            count+=1\n",
    "            date_time = data['date']\n",
    "            home_city=\"\"\n",
    "            away_city=\"\"\n",
    "            #if data['homeTeamName'][]\n",
    "#print(date_time)\n",
    "            #datetime.datetime.strptime(date_time,  '%Y-%m-%dT%H:%M:%S')\n",
    "            #time\n",
    "            all_match_details_dataframe.loc[count] = [date_time,data['homeTeamName'],data['awayTeamName'],data['result']['goalsHomeTeam'],data['result']['goalsAwayTeam']]\n",
    "            "
   ]
  },
  {
   "cell_type": "code",
   "execution_count": 8,
   "metadata": {
    "collapsed": false
   },
   "outputs": [
    {
     "data": {
      "text/html": [
       "<div>\n",
       "<table border=\"1\" class=\"dataframe\">\n",
       "  <thead>\n",
       "    <tr style=\"text-align: right;\">\n",
       "      <th></th>\n",
       "      <th>Date_Time</th>\n",
       "      <th>home</th>\n",
       "      <th>away</th>\n",
       "      <th>home_goal</th>\n",
       "      <th>away_goal</th>\n",
       "    </tr>\n",
       "  </thead>\n",
       "  <tbody>\n",
       "    <tr>\n",
       "      <th>376</th>\n",
       "      <td>2016-02-27T12:45:00Z</td>\n",
       "      <td>West Ham United</td>\n",
       "      <td>Sunderland AFC</td>\n",
       "      <td>1.0</td>\n",
       "      <td>0.0</td>\n",
       "    </tr>\n",
       "    <tr>\n",
       "      <th>377</th>\n",
       "      <td>2016-05-07T14:00:00Z</td>\n",
       "      <td>West Ham United</td>\n",
       "      <td>Swansea City</td>\n",
       "      <td>1.0</td>\n",
       "      <td>4.0</td>\n",
       "    </tr>\n",
       "    <tr>\n",
       "      <th>378</th>\n",
       "      <td>2016-03-02T19:45:00Z</td>\n",
       "      <td>West Ham United</td>\n",
       "      <td>Tottenham Hotspur</td>\n",
       "      <td>1.0</td>\n",
       "      <td>0.0</td>\n",
       "    </tr>\n",
       "    <tr>\n",
       "      <th>379</th>\n",
       "      <td>2016-04-20T18:45:00Z</td>\n",
       "      <td>West Ham United</td>\n",
       "      <td>Watford</td>\n",
       "      <td>3.0</td>\n",
       "      <td>1.0</td>\n",
       "    </tr>\n",
       "    <tr>\n",
       "      <th>380</th>\n",
       "      <td>2015-11-29T14:05:00Z</td>\n",
       "      <td>West Ham United</td>\n",
       "      <td>West Bromwich Albion</td>\n",
       "      <td>1.0</td>\n",
       "      <td>1.0</td>\n",
       "    </tr>\n",
       "  </tbody>\n",
       "</table>\n",
       "</div>"
      ],
      "text/plain": [
       "                Date_Time              home                   away  home_goal  \\\n",
       "376  2016-02-27T12:45:00Z  West Ham United          Sunderland AFC        1.0   \n",
       "377  2016-05-07T14:00:00Z  West Ham United           Swansea City         1.0   \n",
       "378  2016-03-02T19:45:00Z  West Ham United      Tottenham Hotspur         1.0   \n",
       "379  2016-04-20T18:45:00Z  West Ham United                Watford         3.0   \n",
       "380  2015-11-29T14:05:00Z  West Ham United   West Bromwich Albion         1.0   \n",
       "\n",
       "     away_goal  \n",
       "376        0.0  \n",
       "377        4.0  \n",
       "378        0.0  \n",
       "379        1.0  \n",
       "380        1.0  "
      ]
     },
     "execution_count": 8,
     "metadata": {},
     "output_type": "execute_result"
    }
   ],
   "source": [
    "for x in all_match_details_dataframe['home']:\n",
    "    if x[-2:]=='FC' and x[-3:]!='AFC':\n",
    "        all_match_details_dataframe.loc[all_match_details_dataframe['home']==x,['home']]=x[0:-2]\n",
    "for x in all_match_details_dataframe['away']:\n",
    "    if x[-2:]=='FC'and x[-3:]!='AFC':\n",
    "        all_match_details_dataframe.loc[all_match_details_dataframe['away']==x,['away']]=x[:-2]\n",
    "        \n",
    "all_match_details_dataframe.tail()\n"
   ]
  },
  {
   "cell_type": "code",
   "execution_count": 9,
   "metadata": {
    "collapsed": false
   },
   "outputs": [
    {
     "data": {
      "text/html": [
       "<div>\n",
       "<table border=\"1\" class=\"dataframe\">\n",
       "  <thead>\n",
       "    <tr style=\"text-align: right;\">\n",
       "      <th></th>\n",
       "      <th>Date_Time</th>\n",
       "      <th>home</th>\n",
       "      <th>away</th>\n",
       "      <th>home_goal</th>\n",
       "      <th>away_goal</th>\n",
       "      <th>Club</th>\n",
       "      <th>Location</th>\n",
       "      <th>Coordinates</th>\n",
       "    </tr>\n",
       "  </thead>\n",
       "  <tbody>\n",
       "    <tr>\n",
       "      <th>0</th>\n",
       "      <td>2016-02-07T13:30:00Z</td>\n",
       "      <td>AFC Bournemouth</td>\n",
       "      <td>Arsenal</td>\n",
       "      <td>0.0</td>\n",
       "      <td>2.0</td>\n",
       "      <td>AFC Bournemouth</td>\n",
       "      <td>Bournemouth</td>\n",
       "      <td>(50.74467035, -1.85798080318094)</td>\n",
       "    </tr>\n",
       "    <tr>\n",
       "      <th>1</th>\n",
       "      <td>2015-08-08T14:00:00Z</td>\n",
       "      <td>AFC Bournemouth</td>\n",
       "      <td>Aston Villa</td>\n",
       "      <td>0.0</td>\n",
       "      <td>1.0</td>\n",
       "      <td>AFC Bournemouth</td>\n",
       "      <td>Bournemouth</td>\n",
       "      <td>(50.74467035, -1.85798080318094)</td>\n",
       "    </tr>\n",
       "    <tr>\n",
       "      <th>2</th>\n",
       "      <td>2016-04-23T14:00:00Z</td>\n",
       "      <td>AFC Bournemouth</td>\n",
       "      <td>Chelsea</td>\n",
       "      <td>1.0</td>\n",
       "      <td>4.0</td>\n",
       "      <td>AFC Bournemouth</td>\n",
       "      <td>Bournemouth</td>\n",
       "      <td>(50.74467035, -1.85798080318094)</td>\n",
       "    </tr>\n",
       "    <tr>\n",
       "      <th>3</th>\n",
       "      <td>2015-12-26T15:00:00Z</td>\n",
       "      <td>AFC Bournemouth</td>\n",
       "      <td>Crystal Palace</td>\n",
       "      <td>0.0</td>\n",
       "      <td>0.0</td>\n",
       "      <td>AFC Bournemouth</td>\n",
       "      <td>Bournemouth</td>\n",
       "      <td>(50.74467035, -1.85798080318094)</td>\n",
       "    </tr>\n",
       "    <tr>\n",
       "      <th>4</th>\n",
       "      <td>2015-11-28T15:00:00Z</td>\n",
       "      <td>AFC Bournemouth</td>\n",
       "      <td>Everton</td>\n",
       "      <td>3.0</td>\n",
       "      <td>3.0</td>\n",
       "      <td>AFC Bournemouth</td>\n",
       "      <td>Bournemouth</td>\n",
       "      <td>(50.74467035, -1.85798080318094)</td>\n",
       "    </tr>\n",
       "  </tbody>\n",
       "</table>\n",
       "</div>"
      ],
      "text/plain": [
       "              Date_Time             home             away  home_goal  \\\n",
       "0  2016-02-07T13:30:00Z  AFC Bournemouth         Arsenal         0.0   \n",
       "1  2015-08-08T14:00:00Z  AFC Bournemouth     Aston Villa         0.0   \n",
       "2  2016-04-23T14:00:00Z  AFC Bournemouth         Chelsea         1.0   \n",
       "3  2015-12-26T15:00:00Z  AFC Bournemouth  Crystal Palace         0.0   \n",
       "4  2015-11-28T15:00:00Z  AFC Bournemouth         Everton         3.0   \n",
       "\n",
       "   away_goal             Club     Location                       Coordinates  \n",
       "0        2.0  AFC Bournemouth  Bournemouth  (50.74467035, -1.85798080318094)  \n",
       "1        1.0  AFC Bournemouth  Bournemouth  (50.74467035, -1.85798080318094)  \n",
       "2        4.0  AFC Bournemouth  Bournemouth  (50.74467035, -1.85798080318094)  \n",
       "3        0.0  AFC Bournemouth  Bournemouth  (50.74467035, -1.85798080318094)  \n",
       "4        3.0  AFC Bournemouth  Bournemouth  (50.74467035, -1.85798080318094)  "
      ]
     },
     "execution_count": 9,
     "metadata": {},
     "output_type": "execute_result"
    }
   ],
   "source": [
    "match_details=pd.merge(all_match_details_dataframe, df,left_on=all_match_details_dataframe['home'].str.strip(), right_on = 'Club',how='left')\n",
    "match_details.head()"
   ]
  },
  {
   "cell_type": "code",
   "execution_count": 10,
   "metadata": {
    "collapsed": false
   },
   "outputs": [
    {
     "data": {
      "text/html": [
       "<div>\n",
       "<table border=\"1\" class=\"dataframe\">\n",
       "  <thead>\n",
       "    <tr style=\"text-align: right;\">\n",
       "      <th></th>\n",
       "      <th>Date_Time</th>\n",
       "      <th>home</th>\n",
       "      <th>away</th>\n",
       "      <th>home_goal</th>\n",
       "      <th>away_goal</th>\n",
       "      <th>Club</th>\n",
       "      <th>Location</th>\n",
       "      <th>Coordinates</th>\n",
       "      <th>Date</th>\n",
       "      <th>Time</th>\n",
       "    </tr>\n",
       "  </thead>\n",
       "  <tbody>\n",
       "    <tr>\n",
       "      <th>0</th>\n",
       "      <td>2016-02-07T13:30:00Z</td>\n",
       "      <td>AFC Bournemouth</td>\n",
       "      <td>Arsenal</td>\n",
       "      <td>0.0</td>\n",
       "      <td>2.0</td>\n",
       "      <td>AFC Bournemouth</td>\n",
       "      <td>Bournemouth</td>\n",
       "      <td>(50.74467035, -1.85798080318094)</td>\n",
       "      <td>2016-02-07</td>\n",
       "      <td>13:30:00Z</td>\n",
       "    </tr>\n",
       "    <tr>\n",
       "      <th>1</th>\n",
       "      <td>2015-08-08T14:00:00Z</td>\n",
       "      <td>AFC Bournemouth</td>\n",
       "      <td>Aston Villa</td>\n",
       "      <td>0.0</td>\n",
       "      <td>1.0</td>\n",
       "      <td>AFC Bournemouth</td>\n",
       "      <td>Bournemouth</td>\n",
       "      <td>(50.74467035, -1.85798080318094)</td>\n",
       "      <td>2015-08-08</td>\n",
       "      <td>14:00:00Z</td>\n",
       "    </tr>\n",
       "    <tr>\n",
       "      <th>2</th>\n",
       "      <td>2016-04-23T14:00:00Z</td>\n",
       "      <td>AFC Bournemouth</td>\n",
       "      <td>Chelsea</td>\n",
       "      <td>1.0</td>\n",
       "      <td>4.0</td>\n",
       "      <td>AFC Bournemouth</td>\n",
       "      <td>Bournemouth</td>\n",
       "      <td>(50.74467035, -1.85798080318094)</td>\n",
       "      <td>2016-04-23</td>\n",
       "      <td>14:00:00Z</td>\n",
       "    </tr>\n",
       "    <tr>\n",
       "      <th>3</th>\n",
       "      <td>2015-12-26T15:00:00Z</td>\n",
       "      <td>AFC Bournemouth</td>\n",
       "      <td>Crystal Palace</td>\n",
       "      <td>0.0</td>\n",
       "      <td>0.0</td>\n",
       "      <td>AFC Bournemouth</td>\n",
       "      <td>Bournemouth</td>\n",
       "      <td>(50.74467035, -1.85798080318094)</td>\n",
       "      <td>2015-12-26</td>\n",
       "      <td>15:00:00Z</td>\n",
       "    </tr>\n",
       "    <tr>\n",
       "      <th>4</th>\n",
       "      <td>2015-11-28T15:00:00Z</td>\n",
       "      <td>AFC Bournemouth</td>\n",
       "      <td>Everton</td>\n",
       "      <td>3.0</td>\n",
       "      <td>3.0</td>\n",
       "      <td>AFC Bournemouth</td>\n",
       "      <td>Bournemouth</td>\n",
       "      <td>(50.74467035, -1.85798080318094)</td>\n",
       "      <td>2015-11-28</td>\n",
       "      <td>15:00:00Z</td>\n",
       "    </tr>\n",
       "  </tbody>\n",
       "</table>\n",
       "</div>"
      ],
      "text/plain": [
       "              Date_Time             home             away  home_goal  \\\n",
       "0  2016-02-07T13:30:00Z  AFC Bournemouth         Arsenal         0.0   \n",
       "1  2015-08-08T14:00:00Z  AFC Bournemouth     Aston Villa         0.0   \n",
       "2  2016-04-23T14:00:00Z  AFC Bournemouth         Chelsea         1.0   \n",
       "3  2015-12-26T15:00:00Z  AFC Bournemouth  Crystal Palace         0.0   \n",
       "4  2015-11-28T15:00:00Z  AFC Bournemouth         Everton         3.0   \n",
       "\n",
       "   away_goal             Club     Location                       Coordinates  \\\n",
       "0        2.0  AFC Bournemouth  Bournemouth  (50.74467035, -1.85798080318094)   \n",
       "1        1.0  AFC Bournemouth  Bournemouth  (50.74467035, -1.85798080318094)   \n",
       "2        4.0  AFC Bournemouth  Bournemouth  (50.74467035, -1.85798080318094)   \n",
       "3        0.0  AFC Bournemouth  Bournemouth  (50.74467035, -1.85798080318094)   \n",
       "4        3.0  AFC Bournemouth  Bournemouth  (50.74467035, -1.85798080318094)   \n",
       "\n",
       "         Date       Time  \n",
       "0  2016-02-07  13:30:00Z  \n",
       "1  2015-08-08  14:00:00Z  \n",
       "2  2016-04-23  14:00:00Z  \n",
       "3  2015-12-26  15:00:00Z  \n",
       "4  2015-11-28  15:00:00Z  "
      ]
     },
     "execution_count": 10,
     "metadata": {},
     "output_type": "execute_result"
    }
   ],
   "source": [
    "match_details['Date'], match_details['Time'] = zip(*match_details['Date_Time'].map(lambda x: x.split('T')))\n",
    "match_details.head()"
   ]
  },
  {
   "cell_type": "code",
   "execution_count": 11,
   "metadata": {
    "collapsed": false
   },
   "outputs": [],
   "source": [
    "#match_details[['Coordinates_lat','Coordinates_long']] =pd.DataFrame(df['Coordinates'].tolist())# df['Coordinates'].apply(pd.Series)\n",
    "#match_details.tail()"
   ]
  },
  {
   "cell_type": "code",
   "execution_count": 12,
   "metadata": {
    "collapsed": false
   },
   "outputs": [],
   "source": [
    "match_details[['Date_Time','home','away','home_goal','away_goal','Location','Coordinates','Date','Time']].sort_values(by=['Date_Time']).reset_index(drop=True).to_csv('Data/Football/all_match_details.csv', sep=',', encoding='utf-8')"
   ]
  },
  {
   "cell_type": "code",
   "execution_count": 13,
   "metadata": {
    "collapsed": false
   },
   "outputs": [
    {
     "data": {
      "text/html": [
       "<div>\n",
       "<table border=\"1\" class=\"dataframe\">\n",
       "  <thead>\n",
       "    <tr style=\"text-align: right;\">\n",
       "      <th></th>\n",
       "      <th>Date_Time</th>\n",
       "      <th>Date</th>\n",
       "      <th>Time</th>\n",
       "      <th>Location</th>\n",
       "      <th>home</th>\n",
       "      <th>away</th>\n",
       "      <th>home_goal</th>\n",
       "      <th>away_goal</th>\n",
       "      <th>weatherDesc</th>\n",
       "      <th>FeelsLikeF</th>\n",
       "      <th>humidity</th>\n",
       "      <th>visibility</th>\n",
       "      <th>windspeedMiles</th>\n",
       "    </tr>\n",
       "  </thead>\n",
       "  <tbody>\n",
       "    <tr>\n",
       "      <th>0</th>\n",
       "      <td>2015-08-08T11:45:00Z</td>\n",
       "      <td>2015-08-08</td>\n",
       "      <td>11:45:00Z</td>\n",
       "      <td>Trafford</td>\n",
       "      <td>Manchester United</td>\n",
       "      <td>Tottenham Hotspur</td>\n",
       "      <td>1.0</td>\n",
       "      <td>0.0</td>\n",
       "      <td>Overcast</td>\n",
       "      <td>62</td>\n",
       "      <td>71</td>\n",
       "      <td>10</td>\n",
       "      <td>6</td>\n",
       "    </tr>\n",
       "    <tr>\n",
       "      <th>1</th>\n",
       "      <td>2015-08-08T14:00:00Z</td>\n",
       "      <td>2015-08-08</td>\n",
       "      <td>14:00:00Z</td>\n",
       "      <td>Bournemouth</td>\n",
       "      <td>AFC Bournemouth</td>\n",
       "      <td>Aston Villa</td>\n",
       "      <td>0.0</td>\n",
       "      <td>1.0</td>\n",
       "      <td>Sunny</td>\n",
       "      <td>67</td>\n",
       "      <td>61</td>\n",
       "      <td>10</td>\n",
       "      <td>5</td>\n",
       "    </tr>\n",
       "    <tr>\n",
       "      <th>2</th>\n",
       "      <td>2015-08-08T14:00:00Z</td>\n",
       "      <td>2015-08-08</td>\n",
       "      <td>14:00:00Z</td>\n",
       "      <td>Leicester</td>\n",
       "      <td>Leicester City</td>\n",
       "      <td>Sunderland AFC</td>\n",
       "      <td>4.0</td>\n",
       "      <td>2.0</td>\n",
       "      <td>Light rain shower</td>\n",
       "      <td>66</td>\n",
       "      <td>67</td>\n",
       "      <td>10</td>\n",
       "      <td>7</td>\n",
       "    </tr>\n",
       "    <tr>\n",
       "      <th>3</th>\n",
       "      <td>2015-08-08T14:00:00Z</td>\n",
       "      <td>2015-08-08</td>\n",
       "      <td>14:00:00Z</td>\n",
       "      <td>Norwich</td>\n",
       "      <td>Norwich City</td>\n",
       "      <td>Crystal Palace</td>\n",
       "      <td>1.0</td>\n",
       "      <td>3.0</td>\n",
       "      <td>Sunny</td>\n",
       "      <td>64</td>\n",
       "      <td>65</td>\n",
       "      <td>10</td>\n",
       "      <td>7</td>\n",
       "    </tr>\n",
       "    <tr>\n",
       "      <th>4</th>\n",
       "      <td>2015-08-08T14:00:00Z</td>\n",
       "      <td>2015-08-08</td>\n",
       "      <td>14:00:00Z</td>\n",
       "      <td>Liverpool</td>\n",
       "      <td>Everton</td>\n",
       "      <td>Watford</td>\n",
       "      <td>2.0</td>\n",
       "      <td>2.0</td>\n",
       "      <td>Overcast</td>\n",
       "      <td>64</td>\n",
       "      <td>69</td>\n",
       "      <td>10</td>\n",
       "      <td>4</td>\n",
       "    </tr>\n",
       "  </tbody>\n",
       "</table>\n",
       "</div>"
      ],
      "text/plain": [
       "              Date_Time        Date       Time     Location  \\\n",
       "0  2015-08-08T11:45:00Z  2015-08-08  11:45:00Z     Trafford   \n",
       "1  2015-08-08T14:00:00Z  2015-08-08  14:00:00Z  Bournemouth   \n",
       "2  2015-08-08T14:00:00Z  2015-08-08  14:00:00Z    Leicester   \n",
       "3  2015-08-08T14:00:00Z  2015-08-08  14:00:00Z      Norwich   \n",
       "4  2015-08-08T14:00:00Z  2015-08-08  14:00:00Z    Liverpool   \n",
       "\n",
       "                 home                away  home_goal  away_goal  \\\n",
       "0  Manchester United   Tottenham Hotspur         1.0        0.0   \n",
       "1     AFC Bournemouth        Aston Villa         0.0        1.0   \n",
       "2     Leicester City       Sunderland AFC        4.0        2.0   \n",
       "3       Norwich City      Crystal Palace         1.0        3.0   \n",
       "4            Everton             Watford         2.0        2.0   \n",
       "\n",
       "         weatherDesc  FeelsLikeF  humidity  visibility  windspeedMiles  \n",
       "0           Overcast          62        71          10               6  \n",
       "1              Sunny          67        61          10               5  \n",
       "2  Light rain shower          66        67          10               7  \n",
       "3              Sunny          64        65          10               7  \n",
       "4           Overcast          64        69          10               4  "
      ]
     },
     "execution_count": 13,
     "metadata": {},
     "output_type": "execute_result"
    }
   ],
   "source": [
    "#Based on date,coordinates and locatiion, weather data has been integrated \n",
    "path_weather= \"Data/Weather/match_with_weather.csv\"\n",
    "match_weather_df = pd.read_csv(path_weather,sep=',')[['Date_Time','Date','Time','Location','home','away','home_goal','away_goal','weatherDesc','FeelsLikeF','humidity','visibility','windspeedMiles']]\n",
    "#match_weather_df[['home_goal','away_goal']].astype(int)\n",
    "match_weather_df.head()"
   ]
  },
  {
   "cell_type": "code",
   "execution_count": 14,
   "metadata": {
    "collapsed": false
   },
   "outputs": [
    {
     "data": {
      "text/plain": [
       "array(['Overcast', 'Sunny', 'Light rain shower', 'Patchy rain possible',\n",
       "       'Light rain', 'Cloudy', 'Moderate or heavy rain shower',\n",
       "       'Partly cloudy', 'Patchy light rain with thunder',\n",
       "       'Torrential rain shower', 'Moderate rain', 'Moderate rain at times',\n",
       "       'Light drizzle', 'Moderate or heavy rain with thunder',\n",
       "       'Patchy light snow', 'Light snow showers', 'Patchy light drizzle',\n",
       "       'Heavy rain', 'Thundery outbreaks possible', 'Light sleet',\n",
       "       'Light snow', 'Patchy heavy snow', 'Moderate or heavy snow showers',\n",
       "       'Light sleet showers', 'Heavy snow'], dtype=object)"
      ]
     },
     "execution_count": 14,
     "metadata": {},
     "output_type": "execute_result"
    }
   ],
   "source": [
    "#Identify unique weather conditions\n",
    "match_weather_df['weatherDesc'].unique()\n",
    "#weather_type\n",
    "#match_weather_df[match_weather_df['weatherDesc']==\"Moderate rain\"]"
   ]
  },
  {
   "cell_type": "code",
   "execution_count": 15,
   "metadata": {
    "collapsed": true
   },
   "outputs": [],
   "source": [
    "match_weather_df.loc[match_weather_df['weatherDesc']==\"Patchy rain possible\",['weatherDesc']]=\"Light rain shower\"\n",
    "match_weather_df.loc[match_weather_df['weatherDesc']==\"Light rain\",['weatherDesc']]=\"Light rain shower\"\n",
    "match_weather_df.loc[match_weather_df['weatherDesc']==\"Patchy light rain with thunder\",['weatherDesc']]=\"Light rain shower\"\n",
    "match_weather_df.loc[match_weather_df['weatherDesc']==\"Moderate rain\",['weatherDesc']]=\"Moderate rain shower\"\n",
    "match_weather_df.loc[match_weather_df['weatherDesc']==\"Moderate rain at times\",['weatherDesc']]=\"Moderate rain shower\"\n",
    "match_weather_df.loc[match_weather_df['weatherDesc']==\"Moderate or heavy rain shower\",['weatherDesc']]=\"Heavy rain shower\"\n",
    "match_weather_df.loc[match_weather_df['weatherDesc']==\"Moderate or heavy rain with thunder\",['weatherDesc']]=\"Heavy rain shower\"\n",
    "match_weather_df.loc[match_weather_df['weatherDesc']==\"Torrential rain shower\",['weatherDesc']]=\"Heavy rain shower\"\n",
    "match_weather_df.loc[match_weather_df['weatherDesc']==\"Patchy light snow\",['weatherDesc']]=\"Light snow showers\"\n",
    "match_weather_df.loc[match_weather_df['weatherDesc']==\"Patchy heavy snow\",['weatherDesc']]=\"Heavy snow showers\"\n",
    "match_weather_df.loc[match_weather_df['weatherDesc']==\"Moderate or heavy snow showers\",['weatherDesc']]=\"Heavy snow showers\"\n",
    "match_weather_df.loc[match_weather_df['weatherDesc']==\"Heavy snow\",['weatherDesc']]=\"Heavy snow showers\"\n",
    "match_weather_df.loc[match_weather_df['weatherDesc']==\"Light sleet\",['weatherDesc']]=\"Light sleet showers\"\n",
    "match_weather_df.loc[match_weather_df['weatherDesc']==\"Patchy light drizzle\",['weatherDesc']]=\"Light drizzle\"\n",
    "match_weather_df.loc[match_weather_df['weatherDesc']==\"Partly cloudy\",['weatherDesc']]=\"Cloudy\"\n",
    "match_weather_df.loc[match_weather_df['weatherDesc']==\"Overcast\",['weatherDesc']]=\"Cloudy\"\n",
    "\n",
    "\n",
    "\n",
    "#all_match_details_dataframe.loc[all_match_details_dataframe['away']==,['away']]=x[:-2]"
   ]
  },
  {
   "cell_type": "code",
   "execution_count": 25,
   "metadata": {
    "collapsed": false
   },
   "outputs": [
    {
     "data": {
      "text/html": [
       "<div>\n",
       "<table border=\"1\" class=\"dataframe\">\n",
       "  <thead>\n",
       "    <tr style=\"text-align: right;\">\n",
       "      <th></th>\n",
       "      <th>Date_Time</th>\n",
       "      <th>Date</th>\n",
       "      <th>Time</th>\n",
       "      <th>Location</th>\n",
       "      <th>home</th>\n",
       "      <th>away</th>\n",
       "      <th>home_goal</th>\n",
       "      <th>away_goal</th>\n",
       "      <th>weatherDesc</th>\n",
       "      <th>FeelsLikeF</th>\n",
       "      <th>humidity</th>\n",
       "      <th>visibility</th>\n",
       "      <th>windspeedMiles</th>\n",
       "    </tr>\n",
       "  </thead>\n",
       "  <tbody>\n",
       "    <tr>\n",
       "      <th>201</th>\n",
       "      <td>2016-01-12T19:45:00Z</td>\n",
       "      <td>2016-01-12</td>\n",
       "      <td>19:45:00Z</td>\n",
       "      <td>Birmingham</td>\n",
       "      <td>Aston Villa</td>\n",
       "      <td>Crystal Palace</td>\n",
       "      <td>1.0</td>\n",
       "      <td>0.0</td>\n",
       "      <td>Thundery outbreaks possible</td>\n",
       "      <td>30</td>\n",
       "      <td>81</td>\n",
       "      <td>10</td>\n",
       "      <td>21</td>\n",
       "    </tr>\n",
       "  </tbody>\n",
       "</table>\n",
       "</div>"
      ],
      "text/plain": [
       "                Date_Time        Date       Time    Location          home  \\\n",
       "201  2016-01-12T19:45:00Z  2016-01-12  19:45:00Z  Birmingham  Aston Villa    \n",
       "\n",
       "                away  home_goal  away_goal                  weatherDesc  \\\n",
       "201  Crystal Palace         1.0        0.0  Thundery outbreaks possible   \n",
       "\n",
       "     FeelsLikeF  humidity  visibility  windspeedMiles  \n",
       "201          30        81          10              21  "
      ]
     },
     "execution_count": 25,
     "metadata": {},
     "output_type": "execute_result"
    }
   ],
   "source": [
    "match_weather_df[match_weather_df['weatherDesc']=='Thundery outbreaks possible']"
   ]
  },
  {
   "cell_type": "code",
   "execution_count": 17,
   "metadata": {
    "collapsed": false
   },
   "outputs": [],
   "source": [
    "match_weather_df['home'].unique()\n",
    "df_test=pd.DataFrame(columns=['Team','count_game','points','goals'])\n",
    "df_test['Team']=match_weather_df['home'].unique()\n",
    "\n",
    "#df_test.loc[df_test['Team']==match_weather_df['home'], ['points']]\n",
    "#match_weather_df[match_weather_df['weatherDesc']==\"Moderate rain shower\"]\n"
   ]
  },
  {
   "cell_type": "code",
   "execution_count": 18,
   "metadata": {
    "collapsed": false
   },
   "outputs": [
    {
     "data": {
      "text/plain": [
       "array(['Cloudy', 'Sunny', 'Light rain shower', 'Heavy rain shower',\n",
       "       'Moderate rain shower', 'Light drizzle', 'Light snow showers',\n",
       "       'Heavy rain', 'Thundery outbreaks possible', 'Light sleet showers',\n",
       "       'Light snow', 'Heavy snow showers'], dtype=object)"
      ]
     },
     "execution_count": 18,
     "metadata": {},
     "output_type": "execute_result"
    }
   ],
   "source": [
    "match_weather_df['weatherDesc'].unique()"
   ]
  },
  {
   "cell_type": "code",
   "execution_count": 126,
   "metadata": {
    "collapsed": false
   },
   "outputs": [],
   "source": [
    "# Make a dropdown to select the Area, or \"All\"\n",
    "\n",
    "#plt.subplots(figsize=(3,4))\n",
    "weather = widgets.Dropdown(options=['All'] + list(match_weather_df['weatherDesc'].unique()),value='All',description='weather:',)\n",
    "\n",
    "def plotit(weather):\n",
    "       \n",
    "        match_weather_df_copy = match_weather_df.copy()\n",
    "        if weather != 'All':\n",
    "            match_weather_df_copy = match_weather_df_copy[match_weather_df_copy['weatherDesc'] == str(weather)]\n",
    "           \n",
    "        if len(match_weather_df_copy) > 0:\n",
    "            \n",
    "            #######\n",
    "\n",
    "#create new columns for winning team,losing team home draw team and away draw team names\n",
    "            match_weather_df_copy.loc[match_weather_df_copy['away_goal']>match_weather_df_copy['home_goal'] ,'winner'] = match_weather_df_copy['away']\n",
    "            match_weather_df_copy.loc[match_weather_df_copy['away_goal']<match_weather_df_copy['home_goal'] ,'winner'] = match_weather_df_copy['home']\n",
    "            match_weather_df_copy.loc[match_weather_df_copy['away_goal']>match_weather_df_copy['home_goal'] ,'loser'] = match_weather_df_copy['home']\n",
    "            match_weather_df_copy.loc[match_weather_df_copy['home_goal']>match_weather_df_copy['away_goal'] ,'loser'] = match_weather_df_copy['away']\n",
    "            match_weather_df_copy.loc[match_weather_df_copy['away_goal']==match_weather_df_copy['home_goal'] ,'home_draw'] = match_weather_df_copy['home']\n",
    "            match_weather_df_copy.loc[match_weather_df_copy['away_goal']==match_weather_df_copy['home_goal'] ,'away_draw'] = match_weather_df_copy['away']\n",
    "\n",
    "#create individual df for winning team,losing team home draw team and away draw team and their game count\n",
    "            df_winner=match_weather_df_copy.groupby('winner')['winner'].count().to_frame().rename(columns = {'winner':'winner_count'}).reset_index()\n",
    "            df_lose=match_weather_df_copy.groupby('loser')['loser'].count().to_frame().rename(columns = {'loser':'loser_count'}).reset_index()\n",
    "            df_home_draw=match_weather_df_copy.groupby('home_draw')['home_draw'].count().to_frame().rename(columns = {'home_draw':'home_draw_count'}).reset_index()\n",
    "            df_away_draw=match_weather_df_copy.groupby('away_draw')['away_draw'].count().to_frame().rename(columns = {'away_draw':'away_draw_count'}).reset_index()\n",
    "            df_home_goals=match_weather_df_copy.groupby('home')['home_goal'].sum().to_frame().reset_index()\n",
    "            df_away_goals=match_weather_df_copy.groupby('away')['away_goal'].sum().to_frame().reset_index()\n",
    "\n",
    "# create team dataframe containing all 20 team names and merge it with the above datagrames to form one complete dataframe containg \n",
    "# game count in all the categories\n",
    "\n",
    "\n",
    "            df_team= pd.DataFrame(columns=['Team'])\n",
    "            team_list=match_weather_df_copy['home'].append(match_weather_df_copy['away']).unique()\n",
    "            #list(set(match_weather_df_copy['home']+match_weather_df_copy['away']))\n",
    "            #pd.DataFrame(match_weather_df_copy['home']+match_weather_df_copy['away'],columns='TeamName')\n",
    "        \n",
    "    \n",
    "            df_team['Team']= team_list\n",
    "            #team_list['TeamName'].unique()\n",
    "            df_team=pd.merge(df_team,df_winner, left_on='Team', right_on ='winner',how = 'left')\n",
    "            df_team=pd.merge(df_team,df_lose, left_on='Team', right_on ='loser',how = 'left')\n",
    "            df_team=pd.merge(df_team,df_home_draw, left_on='Team', right_on ='home_draw',how = 'left')\n",
    "            df_team=pd.merge(df_team,df_away_draw, left_on='Team', right_on ='away_draw',how = 'left')\n",
    "            df_team=pd.merge(df_team,df_home_goals, left_on='Team', right_on ='home',how = 'left')\n",
    "            df_team=pd.merge(df_team,df_away_goals, left_on='Team', right_on ='away',how = 'left')\n",
    "            df_team[['winner_count','loser_count','home_draw_count','away_draw_count']].fillna(0,inplace=True)\n",
    "            #print(\"df_team\")\n",
    "            #print(df_team)\n",
    "            #Declaration\n",
    "            #df_team['draw_count'] = 0\n",
    "            #df_team['goal_count'] = 0\n",
    "\n",
    "            df_team['draw_count']=df_team['home_draw_count']+df_team['away_draw_count']\n",
    "            df_team['goal_count']=df_team['home_goal']+df_team['away_goal']\n",
    "\n",
    "            #df_team.head()\n",
    "            df_team_match_details=df_team[['Team','winner_count','loser_count','draw_count','goal_count']]\n",
    "\n",
    "            df_team_match_details['winner_count'].fillna(0, inplace=True)\n",
    "            df_team_match_details['loser_count'].fillna(0, inplace=True)\n",
    "            df_team_match_details['draw_count'].fillna(0, inplace=True)\n",
    "            df_team_match_details['goal_count'].fillna(0, inplace=True)\n",
    "            df_team_match_details['match_count']= df_team_match_details['winner_count']+df_team_match_details['loser_count']+df_team_match_details['draw_count']\n",
    "            df_team_match_details['match_count'].fillna(0, inplace=True)\n",
    "            df_team_match_details['points']=(df_team_match_details['winner_count']*3)+(df_team_match_details['draw_count']*1)+(df_team_match_details['loser_count']*0)\n",
    "\n",
    "\n",
    "            ########\n",
    "            df_team_match_details['points'].fillna(0, inplace=True)\n",
    "            #print(\"Final details: \", df_team_match_details)\n",
    "            df_team_match_details1= df_team_match_details.sort_values(by=['points','goal_count'],ascending = False).reset_index(drop=True)\n",
    "            ax = sns.barplot(y=\"Team\", x=\"points\", data=df_team_match_details1,color=\"#3498db\")\n",
    "            ax = sns.stripplot(y=\"Team\", x=\"match_count\", data=df_team_match_details1,\n",
    "                     color=\".3\")\n",
    "            ax.set(xlabel='Points Scored', ylabel='Team Name')\n",
    "            #ax.set(xlabel='number of Matches', ylabel='Team Name')\n",
    "            \n",
    "            matchcountLegend = plt.Circle((1,1),0.2,color=\"black\") \n",
    "            ax.set_xlim(xmin=0)\n",
    "            plt.legend([matchcountLegend], ['Match Count'], loc=1, ncol = 2, prop={'size':10})\n",
    "            plt.show()\n",
    "            #tooltip= mpld3.plugins.PointLabelTooltip(ax,df_team_match_details1['points'])\n",
    "            #mpld3.plugins.connect(ax,tooltip)\n",
    "        \n",
    "        else:\n",
    "            print(\"No data to show for current selection\")\n",
    "        "
   ]
  },
  {
   "cell_type": "code",
   "execution_count": 127,
   "metadata": {
    "collapsed": false
   },
   "outputs": [
    {
     "data": {
      "image/png": "[encoded data removed]",
      "text/plain": [
       "<matplotlib.figure.Figure at 0x225e74c9fd0>"
      ]
     },
     "metadata": {},
     "output_type": "display_data"
    }
   ],
   "source": [
    "interactive(plotit, weather=weather,ax = plt.subplots(figsize=(15, 8)))"
   ]
  },
  {
   "cell_type": "code",
   "execution_count": null,
   "metadata": {
    "collapsed": true
   },
   "outputs": [],
   "source": []
  },
  {
   "cell_type": "code",
   "execution_count": null,
   "metadata": {
    "collapsed": true
   },
   "outputs": [],
   "source": []
  },
  {
   "cell_type": "code",
   "execution_count": 118,
   "metadata": {
    "collapsed": false
   },
   "outputs": [],
   "source": []
  },
  {
   "cell_type": "code",
   "execution_count": null,
   "metadata": {
    "collapsed": true
   },
   "outputs": [],
   "source": []
  }
 ],
 "metadata": {
  "anaconda-cloud": {},
  "kernelspec": {
   "display_name": "Python [conda root]",
   "language": "python",
   "name": "conda-root-py"
  },
  "language_info": {
   "codemirror_mode": {
    "name": "ipython",
    "version": 3
   },
   "file_extension": ".py",
   "mimetype": "text/x-python",
   "name": "python",
   "nbconvert_exporter": "python",
   "pygments_lexer": "ipython3",
   "version": "3.5.2"
  },
  "widgets": {
   "state": {
    "dda66fd39df641c9b0c19452375d0b03": {
     "views": [
      {
       "cell_index": 20
      }
     ]
    }
   },
   "version": "1.2.0"
  }
 },
 "nbformat": 4,
 "nbformat_minor": 2
}
