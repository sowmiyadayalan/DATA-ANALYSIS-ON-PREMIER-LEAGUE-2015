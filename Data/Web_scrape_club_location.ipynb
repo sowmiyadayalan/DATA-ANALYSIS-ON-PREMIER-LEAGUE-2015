{
 "cells": [
  {
   "cell_type": "code",
   "execution_count": 3,
   "metadata": {
    "collapsed": false
   },
   "outputs": [
    {
     "name": "stderr",
     "output_type": "stream",
     "text": [
      "C:\\Users\\Praveen\\Anaconda3\\lib\\site-packages\\bs4\\__init__.py:181: UserWarning: No parser was explicitly specified, so I'm using the best available HTML parser for this system (\"lxml\"). This usually isn't a problem, but if you run this code on another system, or in a different virtual environment, it may use a different parser and behave differently.\n",
      "\n",
      "The code that caused this warning is on line 184 of the file C:\\Users\\Praveen\\Anaconda3\\lib\\runpy.py. To get rid of this warning, change code that looks like this:\n",
      "\n",
      " BeautifulSoup([your markup])\n",
      "\n",
      "to this:\n",
      "\n",
      " BeautifulSoup([your markup], \"lxml\")\n",
      "\n",
      "  markup_type=markup_type))\n"
     ]
    }
   ],
   "source": [
    "from bs4 import BeautifulSoup\n",
    "#import urllib.request as r\n",
    "from urllib.request import urlopen\n",
    "import pandas as pd\n",
    "import csv\n",
    "wiki = \"https://en.wikipedia.org/wiki/List_of_Premier_League_stadiums\"\n",
    "header = {'User-Agent': 'Mozilla/5.0'} #Needed to prevent 403 error on Wikipedia\n",
    "#req = urllib.Request(wiki,headers=header)\n",
    "page = urlopen(wiki).read().decode(encoding='UTF-8')\n",
    "soup = BeautifulSoup(page)\n",
    " \n",
    "club = \"\"\n",
    "location = \"\"\n",
    "#club_list=[]\n",
    " \n",
    "table = soup.find(\"table\", { \"class\" : \"wikitable sortable\" })\n",
    " \n",
    "f = open('club_list_webscrape.csv', 'w',encoding='utf-8')\n",
    "writer = csv.writer(f)\n",
    "writer.writerow(['Club','Location'])\n",
    "#print(club_list)\n",
    "#with open('clublist.csv', 'w',newline='') as csv_file:\n",
    " #   writer = csv.writer(csv_file)\n",
    "  #  writer.writerow()\n",
    "   # writer.writerows(club_list)\n",
    "     \n",
    "for row in table.findAll(\"tr\"):\n",
    "    cells = row.findAll(\"td\")\n",
    "    #For each \"tr\", assign each \"td\" to a variable.\n",
    "    if len(cells) == 9:\n",
    "        club = cells[2].find(text=True)\n",
    "        location = cells[3].find(text=True)\n",
    "        \n",
    "        #tem_list = [club]\n",
    " \n",
    "    #district can be a list of lists, so we want to iterate through the top level lists first...\n",
    "        write_to_file = club + \",\" +  location  + \"\\n\"\n",
    "        #print write_to_file\n",
    "        f.write(write_to_file)\n",
    "\n",
    "f.close()"
   ]
  },
  {
   "cell_type": "code",
   "execution_count": 4,
   "metadata": {
    "collapsed": false
   },
   "outputs": [],
   "source": [
    "directory='club_list_webscrape.csv'\n",
    "df=pd.read_csv(directory,sep=',')\n",
    "df_1=pd.read_csv(directory,sep=',').drop_duplicates()\n",
    "len(df_1)\n",
    "df_1.sort_values(by=['Club']).reset_index(drop=True).to_csv('Football/club_city_list/club_list.csv', sep=',', encoding='utf-8')"
   ]
  },
  {
   "cell_type": "code",
   "execution_count": null,
   "metadata": {
    "collapsed": false
   },
   "outputs": [],
   "source": []
  },
  {
   "cell_type": "code",
   "execution_count": null,
   "metadata": {
    "collapsed": true
   },
   "outputs": [],
   "source": []
  }
 ],
 "metadata": {
  "anaconda-cloud": {},
  "kernelspec": {
   "display_name": "Python [conda root]",
   "language": "python",
   "name": "conda-root-py"
  },
  "language_info": {
   "codemirror_mode": {
    "name": "ipython",
    "version": 3
   },
   "file_extension": ".py",
   "mimetype": "text/x-python",
   "name": "python",
   "nbconvert_exporter": "python",
   "pygments_lexer": "ipython3",
   "version": "3.5.2"
  }
 },
 "nbformat": 4,
 "nbformat_minor": 2
}
