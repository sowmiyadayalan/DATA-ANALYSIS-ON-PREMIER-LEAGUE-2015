{
 "cells": [
  {
   "cell_type": "markdown",
   "metadata": {},
   "source": [
    "# Football Data Collection\n",
    "- I am analysing only the 2015 premier legue matches. In order to collect data related to 2015, premier league, I need to indentify the competition key for  premier league matches.\n",
    "- Collect all competition list for 2015 read json file and identify competion ID for Premier League\n",
    "- Identify premier league id for year 2015 \n",
    "- Hit second api to fetch match data for that id and store the JSON files in local directory"
   ]
  },
  {
   "cell_type": "code",
   "execution_count": 33,
   "metadata": {
    "collapsed": false
   },
   "outputs": [
    {
     "name": "stdout",
     "output_type": "stream",
     "text": [
      "Once deleted, variables cannot be recovered. Proceed (y/[n])? y\n"
     ]
    }
   ],
   "source": [
    "%reset"
   ]
  },
  {
   "cell_type": "code",
   "execution_count": 1,
   "metadata": {
    "collapsed": false
   },
   "outputs": [],
   "source": [
    "import requests\n",
    "import os\n",
    "import re\n",
    "import csv\n",
    "import pandas as pd\n",
    "import json\n",
    "import http.client\n",
    "import time\n",
    "import glob\n",
    "key_pl =  os.getenv(\"key_pl\")\n",
    "#requests.get(\"http://api.football-data.org/v1/competitions/\")\n",
    "#to check 200 response!! But actually what you need to do this below"
   ]
  },
  {
   "cell_type": "code",
   "execution_count": 2,
   "metadata": {
    "collapsed": true
   },
   "outputs": [],
   "source": [
    "path_val = 'Football/competition_list/'"
   ]
  },
  {
   "cell_type": "code",
   "execution_count": 3,
   "metadata": {
    "collapsed": true
   },
   "outputs": [],
   "source": [
    "def ensure_dir(file_path):\n",
    "    directory = os.path.dirname(file_path)\n",
    "    if not os.path.exists(directory):\n",
    "        try:\n",
    "            os.makedirs(file_path,exist_ok=True)\n",
    "            \n",
    "        except OSError as exception:\n",
    "            if exception.errno != errno.EEXIST:\n",
    "                raise"
   ]
  },
  {
   "cell_type": "code",
   "execution_count": 4,
   "metadata": {
    "collapsed": false
   },
   "outputs": [],
   "source": [
    "\n",
    "ind_article_list=[]\n",
    "season_yr='2015'\n",
    "connection = http.client.HTTPConnection('api.football-data.org')\n",
    "headers = { 'X-Auth-Token': key_pl, 'X-Response-Control': 'minified' }\n",
    "connection.request('GET', 'http://api.football-data.org/v1/competitions/?season='+season_yr, None, headers )\n",
    "competition_list=json.loads(connection.getresponse().read().decode())\n",
    "#competition_list=requests.get(\"http://api.football-data.org/v1/competitions/?season=\"+season_yr).json()\n",
    "#competition_list"
   ]
  },
  {
   "cell_type": "code",
   "execution_count": 6,
   "metadata": {
    "collapsed": false
   },
   "outputs": [],
   "source": [
    "#competition_list"
   ]
  },
  {
   "cell_type": "code",
   "execution_count": 28,
   "metadata": {
    "collapsed": false
   },
   "outputs": [],
   "source": [
    "#Store Data in local file\n",
    "file_name =path_val+ 'competition_list.json'\n",
    "os.makedirs(os.path.dirname(file_name), exist_ok=True)\n",
    "with open(file_name, 'w', encoding='utf-8') as f:\n",
    "    json.dump(competition_list, f)\n",
    "    f.close()"
   ]
  },
  {
   "cell_type": "code",
   "execution_count": 29,
   "metadata": {
    "collapsed": true
   },
   "outputs": [],
   "source": [
    "#Read competitoinList to idntify ID\n",
    "directory='Football/competition_list'\n",
    "for root, dirs, files in os.walk(directory):\n",
    "     for file in files:\n",
    "        with open(os.path.join(root, file), \"r\") as f:\n",
    "            data = json.load(f)"
   ]
  },
  {
   "cell_type": "code",
   "execution_count": 30,
   "metadata": {
    "collapsed": false
   },
   "outputs": [],
   "source": [
    "#data[0]"
   ]
  },
  {
   "cell_type": "code",
   "execution_count": 31,
   "metadata": {
    "collapsed": false
   },
   "outputs": [
    {
     "name": "stdout",
     "output_type": "stream",
     "text": [
      "We have found that 2015 premier league's ID is 398\n"
     ]
    },
    {
     "data": {
      "text/plain": [
       "[{'caption': 'Premier League 2015/16',\n",
       "  'currentMatchday': 38,\n",
       "  'id': 398,\n",
       "  'lastUpdated': '2016-05-19T15:12:55Z',\n",
       "  'league': 'PL',\n",
       "  'numberOfGames': 380,\n",
       "  'numberOfMatchdays': 38,\n",
       "  'numberOfTeams': 20,\n",
       "  'year': '2015'}]"
      ]
     },
     "execution_count": 31,
     "metadata": {},
     "output_type": "execute_result"
    }
   ],
   "source": [
    "pl_data=[]\n",
    "pl_id=\"\"\n",
    "for l in data:\n",
    "    if 'caption' in l and 'id' in l and 'league' in l:\n",
    "        if l['league'] == 'PL':\n",
    "            #print(data[l])\n",
    "            pl_data.append(l)\n",
    "            pl_id= l['id']\n",
    "print(\"We have found that 2015 premier league's ID is \"+str(pl_id))\n",
    "pl_data  "
   ]
  },
  {
   "cell_type": "code",
   "execution_count": 43,
   "metadata": {
    "collapsed": false
   },
   "outputs": [],
   "source": [
    "match_list=[]\n",
    "#for i in range(1,38):\n",
    "#connection = http.client.HTTPConnection('api.football-data.org')\n",
    "#headers = { 'X-Auth-Token': key_pl, 'X-Response-Control': 'minified' }\n",
    "#connection.request('GET', 'http://api.football-data.org/v1/competitions/'+str(pl_id)+'/fixtures?', None, headers )\n",
    "#match_list=json.loads(connection.getresponse().read().decode())\n",
    "\n",
    "match_list=requests.get(\"http://api.football-data.org/v1/competitions/\"+str(pl_id)+\"/fixtures?\").json()\n"
   ]
  },
  {
   "cell_type": "code",
   "execution_count": 45,
   "metadata": {
    "collapsed": false
   },
   "outputs": [
    {
     "data": {
      "text/plain": [
       "{'error': 'You reached your request limit. Get your free API token to use the API extensively.'}"
      ]
     },
     "execution_count": 45,
     "metadata": {},
     "output_type": "execute_result"
    }
   ],
   "source": [
    "match_list\n"
   ]
  },
  {
   "cell_type": "code",
   "execution_count": 47,
   "metadata": {
    "collapsed": false
   },
   "outputs": [
    {
     "ename": "KeyError",
     "evalue": "'fixtures'",
     "output_type": "error",
     "traceback": [
      "\u001b[0;31m---------------------------------------------------------------------------\u001b[0m",
      "\u001b[0;31mKeyError\u001b[0m                                  Traceback (most recent call last)",
      "\u001b[0;32m<ipython-input-47-405f8c9724e6>\u001b[0m in \u001b[0;36m<module>\u001b[0;34m()\u001b[0m\n\u001b[1;32m      1\u001b[0m \u001b[0mpath_val_match\u001b[0m \u001b[1;33m=\u001b[0m \u001b[1;34m'Football/Premier_League_2015_Data/'\u001b[0m\u001b[1;33m\u001b[0m\u001b[0m\n\u001b[1;32m      2\u001b[0m \u001b[0mmatch_list_index\u001b[0m \u001b[1;33m=\u001b[0m \u001b[1;33m[\u001b[0m\u001b[1;33m]\u001b[0m\u001b[1;33m\u001b[0m\u001b[0m\n\u001b[0;32m----> 3\u001b[0;31m \u001b[1;32mfor\u001b[0m \u001b[0mi\u001b[0m \u001b[1;32min\u001b[0m \u001b[0mrange\u001b[0m\u001b[1;33m(\u001b[0m\u001b[1;36m0\u001b[0m\u001b[1;33m,\u001b[0m\u001b[0mlen\u001b[0m\u001b[1;33m(\u001b[0m\u001b[0mmatch_list\u001b[0m\u001b[1;33m[\u001b[0m\u001b[1;34m'fixtures'\u001b[0m\u001b[1;33m]\u001b[0m\u001b[1;33m)\u001b[0m\u001b[1;33m)\u001b[0m\u001b[1;33m:\u001b[0m\u001b[1;33m\u001b[0m\u001b[0m\n\u001b[0m\u001b[1;32m      4\u001b[0m     \u001b[0mmatch_list_index\u001b[0m\u001b[1;33m.\u001b[0m\u001b[0mappend\u001b[0m\u001b[1;33m(\u001b[0m\u001b[0mmatch_list\u001b[0m\u001b[1;33m[\u001b[0m\u001b[1;34m'fixtures'\u001b[0m\u001b[1;33m]\u001b[0m\u001b[1;33m[\u001b[0m\u001b[0mi\u001b[0m\u001b[1;33m]\u001b[0m\u001b[1;33m)\u001b[0m\u001b[1;33m\u001b[0m\u001b[0m\n\u001b[1;32m      5\u001b[0m     \u001b[1;31m#print(match_list['fixtures'][i])\u001b[0m\u001b[1;33m\u001b[0m\u001b[1;33m\u001b[0m\u001b[0m\n",
      "\u001b[0;31mKeyError\u001b[0m: 'fixtures'"
     ]
    }
   ],
   "source": [
    "path_val_match = 'Football/Premier_League_2015_Data/'\n",
    "match_list_index = []\n",
    "for i in range(0,len(match_list['fixtures'])):\n",
    "    match_list_index.append(match_list['fixtures'][i])\n",
    "    #print(match_list['fixtures'][i])\n",
    "    #break\n",
    "    #print('step1')\n",
    "    #for match in match_list['fixtures'][i]:\n",
    "     #   match_list_index.append(match)\n",
    "#match_list_index[0]\n",
    "for match in match_list_index:\n",
    "    awayTeamName = match['awayTeamName']\n",
    "    homeTeamName = match['homeTeamName']\n",
    "    matchday = match['matchday']\n",
    "    if awayTeamName and homeTeamName and matchday:\n",
    "        file_name_match =path_val_match+homeTeamName+'/'+homeTeamName+'vs'+ awayTeamName+'on Day'+str(matchday)\n",
    "        os.makedirs(os.path.dirname(file_name_match), exist_ok=True)\n",
    "        with open(file_name_match, 'w', encoding='utf-8') as f:\n",
    "            json.dump(match, f)\n",
    "            f.close()\n",
    "\n",
    "        "
   ]
  },
  {
   "cell_type": "code",
   "execution_count": 86,
   "metadata": {
    "collapsed": false
   },
   "outputs": [],
   "source": [
    "team_fix_dic={}\n",
    "directory=\"Football/Premier_League_2015_Data\"\n",
    "fixture_list=[]\n",
    "#for name in glob.glob(\"Football/Premier_League_2015_Data/*.*\"):\n",
    "for root, dirs, files in os.walk(directory):\n",
    "    for file in files:\n",
    "        with open(os.path.join(root, file), \"r\") as f:\n",
    "            data2 = json.load(f)\n",
    "    \n",
    "            awayTeamName = data2['awayTeamName']\n",
    "            homeTeamName = data2['homeTeamName']\n",
    "            team1=awayTeamName+','+homeTeamName\n",
    "            team2=homeTeamName+','+awayTeamName\n",
    "            #print(team1)\n",
    "            fixture =data2['_links']['self']['href'][data2['_links']['self']['href'].find('/fixtures/')+10:]\n",
    "            if len(team_fix_dic) >0:\n",
    "                if team1 not in team_fix_dic and team2 not in team_fix_dic :\n",
    "                    #print(\"hi\")\n",
    "                    team_fix_dic[team1] = fixture\n",
    "            else:\n",
    "                team_fix_dic[team1] = fixture\n",
    "        #break\n",
    "#print(team_fix_dic)        "
   ]
  },
  {
   "cell_type": "code",
   "execution_count": 88,
   "metadata": {
    "collapsed": false
   },
   "outputs": [],
   "source": [
    "fixture_list=[]\n",
    "for k,v in team_fix_dic.items():\n",
    "    l=[k,v]\n",
    "    fixture_list.append(l)\n",
    "field_name=[\"Team\",\"Fixture\"]\n",
    "with open(\"Football/match_fix_unique.csv\", 'w',newline='') as csv_file:\n",
    "        writer = csv.writer(csv_file)\n",
    "        writer.writerow(field_name)\n",
    "        writer.writerows(fixture_list) "
   ]
  },
  {
   "cell_type": "code",
   "execution_count": 7,
   "metadata": {
    "collapsed": false
   },
   "outputs": [
    {
     "ename": "KeyboardInterrupt",
     "evalue": "",
     "output_type": "error",
     "traceback": [
      "\u001b[0;31m---------------------------------------------------------------------------\u001b[0m",
      "\u001b[0;31mKeyboardInterrupt\u001b[0m                         Traceback (most recent call last)",
      "\u001b[0;32m<ipython-input-7-fe128afd047a>\u001b[0m in \u001b[0;36m<module>\u001b[0;34m()\u001b[0m\n\u001b[1;32m     18\u001b[0m         \u001b[0mf\u001b[0m\u001b[1;33m.\u001b[0m\u001b[0mclose\u001b[0m\u001b[1;33m(\u001b[0m\u001b[1;33m)\u001b[0m\u001b[1;33m\u001b[0m\u001b[0m\n\u001b[1;32m     19\u001b[0m     \u001b[1;31m#print(head2head_list)\u001b[0m\u001b[1;33m\u001b[0m\u001b[1;33m\u001b[0m\u001b[0m\n\u001b[0;32m---> 20\u001b[0;31m     \u001b[0mtime\u001b[0m\u001b[1;33m.\u001b[0m\u001b[0msleep\u001b[0m\u001b[1;33m(\u001b[0m\u001b[1;36m5\u001b[0m\u001b[1;33m)\u001b[0m\u001b[1;33m\u001b[0m\u001b[0m\n\u001b[0m",
      "\u001b[0;31mKeyboardInterrupt\u001b[0m: "
     ]
    }
   ],
   "source": [
    "path_val_fix=\"Football/Head2Head/\"\n",
    "directory_fix_id= \"Football/match_fix_unique.csv\"\n",
    "df_fixtureid=pd.read_csv(directory_fix_id,sep=',')\n",
    "fixture_list=df_fixtureid.values.tolist()\n",
    "for i in range(0,len(fixture_list)):\n",
    "    v=fixture_list[i][1]\n",
    "    k=fixture_list[i][0]\n",
    "    connection = http.client.HTTPConnection('api.football-data.org')\n",
    "    headers = { 'X-Auth-Token': key_pl, 'X-Response-Control': 'minified' }\n",
    "    connection.request('GET', 'http://api.football-data.org/v1/fixtures/'+str(v)+'?head2head=50', None, headers )\n",
    "    head2head_list=json.loads(connection.getresponse().read().decode())\n",
    "    teams=k.split(',')\n",
    "    #print(teams)\n",
    "    file_name_match = 'Football/Head2Head/Head2HeadByFixture/'+teams[0]+'vs'+ teams[1]\n",
    "    #os.makedirs(os.path.dirname(file_name_match))\n",
    "    with open(file_name_match, 'w') as f:\n",
    "        json.dump(head2head_list, f)\n",
    "        f.close()\n",
    "    #print(head2head_list)\n",
    "    time.sleep(5)"
   ]
  },
  {
   "cell_type": "code",
   "execution_count": null,
   "metadata": {
    "collapsed": true
   },
   "outputs": [],
   "source": []
  }
 ],
 "metadata": {
  "anaconda-cloud": {},
  "kernelspec": {
   "display_name": "Python [conda root]",
   "language": "python",
   "name": "conda-root-py"
  },
  "language_info": {
   "codemirror_mode": {
    "name": "ipython",
    "version": 3
   },
   "file_extension": ".py",
   "mimetype": "text/x-python",
   "name": "python",
   "nbconvert_exporter": "python",
   "pygments_lexer": "ipython3",
   "version": "3.5.2"
  }
 },
 "nbformat": 4,
 "nbformat_minor": 2
}
